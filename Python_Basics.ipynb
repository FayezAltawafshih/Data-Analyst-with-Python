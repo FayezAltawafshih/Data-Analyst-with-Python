{
  "cells": [
    {
      "cell_type": "markdown",
      "metadata": {
        "id": "view-in-github",
        "colab_type": "text"
      },
      "source": [
        "<a href=\"https://colab.research.google.com/github/FayezAltawafshih/Data-Analyst-with-Python/blob/main/Python_Basics.ipynb\" target=\"_parent\"><img src=\"https://colab.research.google.com/assets/colab-badge.svg\" alt=\"Open In Colab\"/></a>"
      ]
    },
    {
      "cell_type": "markdown",
      "metadata": {
        "id": "p96XLJE6Mf9v"
      },
      "source": [
        "Programmin Languages used for Machine Leraning\n",
        "\n",
        "1.Python\n",
        "\n",
        "\n",
        "2.R"
      ]
    },
    {
      "cell_type": "markdown",
      "metadata": {
        "id": "OrnlJ08OM07F"
      },
      "source": [
        "#Print Function"
      ]
    },
    {
      "cell_type": "code",
      "execution_count": null,
      "metadata": {
        "id": "jedxozlATMaW"
      },
      "outputs": [],
      "source": []
    },
    {
      "cell_type": "code",
      "execution_count": null,
      "metadata": {
        "colab": {
          "base_uri": "https://localhost:8080/"
        },
        "id": "CeaX18uuMwCK",
        "outputId": "714ffb0f-f10e-474a-f9d9-b5c92d130fac"
      },
      "outputs": [
        {
          "name": "stdout",
          "output_type": "stream",
          "text": [
            "Machine Learning\n"
          ]
        }
      ],
      "source": [
        "print(\"Machine Learning\")"
      ]
    },
    {
      "cell_type": "code",
      "execution_count": null,
      "metadata": {
        "colab": {
          "base_uri": "https://localhost:8080/"
        },
        "id": "NVa93ZYPNrT6",
        "outputId": "bbca857f-402c-417e-e965-a21f560c7a02"
      },
      "outputs": [
        {
          "name": "stdout",
          "output_type": "stream",
          "text": [
            "Machine Learning Projects\n"
          ]
        }
      ],
      "source": [
        "print(\"Machine Learning\" + \" Projects\")"
      ]
    },
    {
      "cell_type": "code",
      "execution_count": null,
      "metadata": {
        "colab": {
          "base_uri": "https://localhost:8080/"
        },
        "id": "qdYaDsAQRZzu",
        "outputId": "f230c3a4-fc2c-4352-e12f-c491aa6b8936"
      },
      "outputs": [
        {
          "name": "stdout",
          "output_type": "stream",
          "text": [
            "8\n"
          ]
        }
      ],
      "source": [
        "print(8)"
      ]
    },
    {
      "cell_type": "code",
      "execution_count": null,
      "metadata": {
        "colab": {
          "base_uri": "https://localhost:8080/"
        },
        "id": "GPFr84-xS2PX",
        "outputId": "41872d2f-df9e-41ed-b3fa-394514f822da"
      },
      "outputs": [
        {
          "name": "stdout",
          "output_type": "stream",
          "text": [
            "11\n"
          ]
        }
      ],
      "source": [
        "print(8+3)"
      ]
    },
    {
      "cell_type": "markdown",
      "metadata": {
        "id": "hxqxGJS7Tc2J"
      },
      "source": [
        "#Basic Data types:\n",
        "\n",
        "1. Integer (int)\n",
        "2. float\n",
        "3. str"
      ]
    },
    {
      "cell_type": "code",
      "execution_count": null,
      "metadata": {
        "colab": {
          "base_uri": "https://localhost:8080/"
        },
        "id": "TYgqKIvhUCqJ",
        "outputId": "0c48cf51-3616-43c5-e01c-818655752b09"
      },
      "outputs": [
        {
          "data": {
            "text/plain": [
              "int"
            ]
          },
          "execution_count": 6,
          "metadata": {},
          "output_type": "execute_result"
        }
      ],
      "source": [
        "type(8)"
      ]
    },
    {
      "cell_type": "code",
      "execution_count": null,
      "metadata": {
        "colab": {
          "base_uri": "https://localhost:8080/"
        },
        "id": "sL3E8nsOT9y1",
        "outputId": "43ae1e6e-1adb-45ac-c40e-9f7d5259db90"
      },
      "outputs": [
        {
          "data": {
            "text/plain": [
              "float"
            ]
          },
          "execution_count": 7,
          "metadata": {},
          "output_type": "execute_result"
        }
      ],
      "source": [
        "type(5.3)"
      ]
    },
    {
      "cell_type": "code",
      "execution_count": null,
      "metadata": {
        "colab": {
          "base_uri": "https://localhost:8080/"
        },
        "id": "lYU5cXDzXaPS",
        "outputId": "14987b9b-c135-4184-fd1e-1a6da2c23c77"
      },
      "outputs": [
        {
          "data": {
            "text/plain": [
              "str"
            ]
          },
          "execution_count": 8,
          "metadata": {},
          "output_type": "execute_result"
        }
      ],
      "source": [
        "type(\"english\")"
      ]
    },
    {
      "cell_type": "markdown",
      "metadata": {
        "id": "6JcYwkK3X6hC"
      },
      "source": [
        "#Constants & Variables"
      ]
    },
    {
      "cell_type": "code",
      "execution_count": null,
      "metadata": {
        "id": "8TZncZFMYGSd"
      },
      "outputs": [],
      "source": [
        "superhero = \"Iron Man\""
      ]
    },
    {
      "cell_type": "code",
      "execution_count": null,
      "metadata": {
        "colab": {
          "base_uri": "https://localhost:8080/"
        },
        "id": "q9nVl18UXn8p",
        "outputId": "056e1850-e6e0-4b3b-9809-a81e7fc6f829"
      },
      "outputs": [
        {
          "name": "stdout",
          "output_type": "stream",
          "text": [
            "Iron Man\n"
          ]
        }
      ],
      "source": [
        "print(superhero)"
      ]
    },
    {
      "cell_type": "code",
      "execution_count": null,
      "metadata": {
        "colab": {
          "base_uri": "https://localhost:8080/"
        },
        "id": "Wh4o1dUwYu3I",
        "outputId": "44aff93e-dfe6-42be-aae1-545716a08c8d"
      },
      "outputs": [
        {
          "name": "stdout",
          "output_type": "stream",
          "text": [
            "Captain America\n"
          ]
        }
      ],
      "source": [
        "marvel_super_hero = \"Captain America\"\n",
        "print(marvel_super_hero)"
      ]
    },
    {
      "cell_type": "code",
      "execution_count": null,
      "metadata": {
        "id": "6Lo9V7OFZTyp"
      },
      "outputs": [],
      "source": [
        "hero1,hero2,hero3 = 'Fayez','Emam','Mohammad'"
      ]
    },
    {
      "cell_type": "code",
      "execution_count": null,
      "metadata": {
        "colab": {
          "base_uri": "https://localhost:8080/"
        },
        "id": "JmCHh4F9cHc1",
        "outputId": "a9a2768d-af7f-4589-bc76-4ee425dc8968"
      },
      "outputs": [
        {
          "name": "stdout",
          "output_type": "stream",
          "text": [
            "Fayez\n",
            "Emam\n",
            "Mohammad\n"
          ]
        }
      ],
      "source": [
        "print(hero1)\n",
        "print(hero2)\n",
        "print(hero3)\n"
      ]
    },
    {
      "cell_type": "code",
      "execution_count": null,
      "metadata": {
        "colab": {
          "base_uri": "https://localhost:8080/"
        },
        "id": "Y6lI40wrcONq",
        "outputId": "24aa14bb-313d-4d4d-987b-67a3a1fef497"
      },
      "outputs": [
        {
          "name": "stdout",
          "output_type": "stream",
          "text": [
            "23\n",
            "23\n",
            "23\n"
          ]
        }
      ],
      "source": [
        "x = y = z = 23\n",
        "print(x)\n",
        "print(y)\n",
        "print(z)"
      ]
    },
    {
      "cell_type": "markdown",
      "metadata": {
        "id": "PJVIClkVdZyu"
      },
      "source": [
        "#Input Function"
      ]
    },
    {
      "cell_type": "code",
      "execution_count": null,
      "metadata": {
        "colab": {
          "base_uri": "https://localhost:8080/"
        },
        "id": "--1OY8g-dfpP",
        "outputId": "7863346a-fb32-4aa5-ff6c-aaad6cf2c057"
      },
      "outputs": [
        {
          "name": "stdout",
          "output_type": "stream",
          "text": [
            "Enter the first number: 23\n",
            "Enter the second number: 23\n",
            "46\n"
          ]
        }
      ],
      "source": [
        "number_1 = int(input(\"Enter the first number: \"))\n",
        "number_2 = int(input(\"Enter the second number: \"))\n",
        "\n",
        "sum = number_1 + number_2\n",
        "\n",
        "print(sum)"
      ]
    },
    {
      "cell_type": "code",
      "execution_count": null,
      "metadata": {
        "colab": {
          "base_uri": "https://localhost:8080/"
        },
        "id": "BGgUgd_afsIO",
        "outputId": "51a7e45a-a837-48ae-fdfb-13cb4485de5f"
      },
      "outputs": [
        {
          "name": "stdout",
          "output_type": "stream",
          "text": [
            "5.0\n"
          ]
        }
      ],
      "source": [
        "# changing the data type\n",
        "\n",
        "num = 5\n",
        "float(num)\n",
        "print(float(num))"
      ]
    },
    {
      "cell_type": "code",
      "execution_count": null,
      "metadata": {
        "colab": {
          "base_uri": "https://localhost:8080/"
        },
        "id": "tHQGg5zIhuFP",
        "outputId": "6d7f462f-8733-46e4-ae94-f38f3dcef3e2"
      },
      "outputs": [
        {
          "name": "stdout",
          "output_type": "stream",
          "text": [
            "8\n"
          ]
        }
      ],
      "source": [
        "# integers\n",
        "a = 8\n",
        "print(a)"
      ]
    },
    {
      "cell_type": "code",
      "execution_count": null,
      "metadata": {
        "colab": {
          "base_uri": "https://localhost:8080/"
        },
        "id": "U89y-crlcv7r",
        "outputId": "c6effd50-7f96-44d1-b462-bf92aea5a96d"
      },
      "outputs": [
        {
          "data": {
            "text/plain": [
              "int"
            ]
          },
          "execution_count": 19,
          "metadata": {},
          "output_type": "execute_result"
        }
      ],
      "source": [
        "type(a)"
      ]
    },
    {
      "cell_type": "code",
      "execution_count": null,
      "metadata": {
        "colab": {
          "base_uri": "https://localhost:8080/"
        },
        "id": "cWeRtCNgi7Hm",
        "outputId": "db55fc00-eb9b-4408-8ec6-b7f5a67a0b00"
      },
      "outputs": [
        {
          "name": "stdout",
          "output_type": "stream",
          "text": [
            "2.3\n"
          ]
        },
        {
          "data": {
            "text/plain": [
              "float"
            ]
          },
          "execution_count": 20,
          "metadata": {},
          "output_type": "execute_result"
        }
      ],
      "source": [
        "# floating point\n",
        "b = 2.3\n",
        "print(b)\n",
        "type(b)"
      ]
    },
    {
      "cell_type": "code",
      "execution_count": null,
      "metadata": {
        "colab": {
          "base_uri": "https://localhost:8080/"
        },
        "id": "QqdNegaIjSGQ",
        "outputId": "39bb64c2-447e-4890-a101-825416ab034b"
      },
      "outputs": [
        {
          "name": "stdout",
          "output_type": "stream",
          "text": [
            "(1+3j)\n"
          ]
        },
        {
          "data": {
            "text/plain": [
              "complex"
            ]
          },
          "execution_count": 21,
          "metadata": {},
          "output_type": "execute_result"
        }
      ],
      "source": [
        "# complex Number\n",
        "c = 1+3j\n",
        "print(c)\n",
        "type(c)"
      ]
    },
    {
      "cell_type": "markdown",
      "metadata": {
        "id": "MHGLJh1ij5Is"
      },
      "source": [
        "Conversion of one data type to another"
      ]
    },
    {
      "cell_type": "code",
      "execution_count": null,
      "metadata": {
        "colab": {
          "base_uri": "https://localhost:8080/"
        },
        "id": "W28SJ1m7kBc9",
        "outputId": "e02d2642-5587-454d-fe3c-93b827b27927"
      },
      "outputs": [
        {
          "name": "stdout",
          "output_type": "stream",
          "text": [
            "10\n"
          ]
        },
        {
          "data": {
            "text/plain": [
              "int"
            ]
          },
          "execution_count": 22,
          "metadata": {},
          "output_type": "execute_result"
        }
      ],
      "source": [
        "# int to float\n",
        "x = 10\n",
        "print(x)\n",
        "type(x)"
      ]
    },
    {
      "cell_type": "code",
      "execution_count": null,
      "metadata": {
        "colab": {
          "base_uri": "https://localhost:8080/"
        },
        "id": "ZgPH-5EiknIZ",
        "outputId": "f9beee5b-4b02-4985-c8f3-9bb61223e561"
      },
      "outputs": [
        {
          "name": "stdout",
          "output_type": "stream",
          "text": [
            "10.0\n"
          ]
        },
        {
          "data": {
            "text/plain": [
              "float"
            ]
          },
          "execution_count": 23,
          "metadata": {},
          "output_type": "execute_result"
        }
      ],
      "source": [
        "y = float(x)\n",
        "print(y)\n",
        "type(y)"
      ]
    },
    {
      "cell_type": "code",
      "execution_count": null,
      "metadata": {
        "colab": {
          "base_uri": "https://localhost:8080/"
        },
        "id": "EEL_5hTBk_I1",
        "outputId": "fe2def7a-1646-4b36-83fb-3ccfd56b77d1"
      },
      "outputs": [
        {
          "name": "stdout",
          "output_type": "stream",
          "text": [
            "10\n"
          ]
        }
      ],
      "source": [
        "print(x)"
      ]
    },
    {
      "cell_type": "code",
      "execution_count": null,
      "metadata": {
        "colab": {
          "base_uri": "https://localhost:8080/"
        },
        "id": "qlHb7auGlCW-",
        "outputId": "3c3d9eaf-1809-4782-d626-7a25fcc8d6c2"
      },
      "outputs": [
        {
          "name": "stdout",
          "output_type": "stream",
          "text": [
            "5.88\n"
          ]
        },
        {
          "data": {
            "text/plain": [
              "float"
            ]
          },
          "execution_count": 25,
          "metadata": {},
          "output_type": "execute_result"
        }
      ],
      "source": [
        "# float to int\n",
        "x = 5.88\n",
        "print(x)\n",
        "type(x)"
      ]
    },
    {
      "cell_type": "code",
      "execution_count": null,
      "metadata": {
        "colab": {
          "base_uri": "https://localhost:8080/"
        },
        "id": "HxQ97MgzlkQI",
        "outputId": "26f2a290-3dab-4610-d6e2-f87fd3373861"
      },
      "outputs": [
        {
          "name": "stdout",
          "output_type": "stream",
          "text": [
            "5\n"
          ]
        },
        {
          "data": {
            "text/plain": [
              "int"
            ]
          },
          "execution_count": 26,
          "metadata": {},
          "output_type": "execute_result"
        }
      ],
      "source": [
        "y = int(x)\n",
        "print(y)\n",
        "type(y)"
      ]
    },
    {
      "cell_type": "markdown",
      "metadata": {
        "id": "unJPv6yvmAvz"
      },
      "source": [
        "Boolean\n",
        "\n",
        "1.True\n",
        "\n",
        "2.False"
      ]
    },
    {
      "cell_type": "code",
      "execution_count": null,
      "metadata": {
        "colab": {
          "base_uri": "https://localhost:8080/"
        },
        "id": "tOdQQXz0lyJa",
        "outputId": "09a79f3d-b660-4fe7-c212-c66e7757483e"
      },
      "outputs": [
        {
          "name": "stdout",
          "output_type": "stream",
          "text": [
            "True\n"
          ]
        },
        {
          "data": {
            "text/plain": [
              "bool"
            ]
          },
          "execution_count": 27,
          "metadata": {},
          "output_type": "execute_result"
        }
      ],
      "source": [
        "a = True\n",
        "print(a)\n",
        "type(a)"
      ]
    },
    {
      "cell_type": "code",
      "execution_count": null,
      "metadata": {
        "colab": {
          "base_uri": "https://localhost:8080/"
        },
        "id": "podDtPHcmeR0",
        "outputId": "c8eba005-04e8-4e2e-95fc-4c336179f8d1"
      },
      "outputs": [
        {
          "name": "stdout",
          "output_type": "stream",
          "text": [
            "False\n"
          ]
        },
        {
          "data": {
            "text/plain": [
              "bool"
            ]
          },
          "execution_count": 28,
          "metadata": {},
          "output_type": "execute_result"
        }
      ],
      "source": [
        "b = False\n",
        "print(b)\n",
        "type(b)"
      ]
    },
    {
      "cell_type": "code",
      "execution_count": null,
      "metadata": {
        "colab": {
          "base_uri": "https://localhost:8080/"
        },
        "id": "j6GHurdSmsFy",
        "outputId": "315e059b-c438-44b6-9227-8130fda54c75"
      },
      "outputs": [
        {
          "name": "stdout",
          "output_type": "stream",
          "text": [
            "False\n"
          ]
        },
        {
          "data": {
            "text/plain": [
              "bool"
            ]
          },
          "execution_count": 29,
          "metadata": {},
          "output_type": "execute_result"
        }
      ],
      "source": [
        "a = 7 < 3\n",
        "print(a)\n",
        "type(a)"
      ]
    },
    {
      "cell_type": "markdown",
      "metadata": {
        "id": "Xcx52qYHng2R"
      },
      "source": [
        "String"
      ]
    },
    {
      "cell_type": "code",
      "execution_count": null,
      "metadata": {
        "colab": {
          "base_uri": "https://localhost:8080/"
        },
        "id": "-z1dN7ISniXj",
        "outputId": "2591940d-f884-4832-b000-0507770c67ad"
      },
      "outputs": [
        {
          "name": "stdout",
          "output_type": "stream",
          "text": [
            "Machine Learning \n"
          ]
        }
      ],
      "source": [
        "print(\"Machine Learning \")"
      ]
    },
    {
      "cell_type": "code",
      "execution_count": null,
      "metadata": {
        "colab": {
          "base_uri": "https://localhost:8080/"
        },
        "id": "fl8YklPWntl8",
        "outputId": "566a6509-f6fc-419d-e76a-71ea1714eb27"
      },
      "outputs": [
        {
          "name": "stdout",
          "output_type": "stream",
          "text": [
            "Machine Learning \n"
          ]
        }
      ],
      "source": [
        "print('Machine Learning ')"
      ]
    },
    {
      "cell_type": "code",
      "execution_count": null,
      "metadata": {
        "colab": {
          "base_uri": "https://localhost:8080/"
        },
        "id": "3iwkGt0uqFKX",
        "outputId": "bfbb651b-ef4d-4919-bbc8-ec4b060ab892"
      },
      "outputs": [
        {
          "name": "stdout",
          "output_type": "stream",
          "text": [
            "Machine Learning\n"
          ]
        }
      ],
      "source": [
        "my_string = \"Machine Learning\"\n",
        "print(my_string)"
      ]
    },
    {
      "cell_type": "code",
      "execution_count": null,
      "metadata": {
        "colab": {
          "base_uri": "https://localhost:8080/"
        },
        "id": "JUHOVBiIqQ39",
        "outputId": "2ef38587-9170-47df-e6ef-25c49683e0e7"
      },
      "outputs": [
        {
          "data": {
            "text/plain": [
              "str"
            ]
          },
          "execution_count": 34,
          "metadata": {},
          "output_type": "execute_result"
        }
      ],
      "source": [
        "type(my_string)"
      ]
    },
    {
      "cell_type": "code",
      "execution_count": null,
      "metadata": {
        "colab": {
          "base_uri": "https://localhost:8080/"
        },
        "id": "Zv5wolcMrj60",
        "outputId": "290544f9-e9b1-478a-dfec-bcf4b0a40470"
      },
      "outputs": [
        {
          "name": "stdout",
          "output_type": "stream",
          "text": [
            "HelloHelloHelloHelloHello\n"
          ]
        }
      ],
      "source": [
        "print(\"Hello\"*5)"
      ]
    },
    {
      "cell_type": "markdown",
      "metadata": {
        "id": "63cJWc1ksC_f"
      },
      "source": [
        "Slicing"
      ]
    },
    {
      "cell_type": "code",
      "execution_count": null,
      "metadata": {
        "id": "rR2OxDnar6tt"
      },
      "outputs": [],
      "source": [
        "my_string = \"programming\""
      ]
    },
    {
      "cell_type": "code",
      "execution_count": null,
      "metadata": {
        "colab": {
          "base_uri": "https://localhost:8080/"
        },
        "id": "DYJOg7gwsvsb",
        "outputId": "29e14ecd-a1a9-4545-b0fc-9eb2851865aa"
      },
      "outputs": [
        {
          "name": "stdout",
          "output_type": "stream",
          "text": [
            "rogr\n"
          ]
        }
      ],
      "source": [
        "print(my_string[1:5])"
      ]
    },
    {
      "cell_type": "code",
      "execution_count": null,
      "metadata": {
        "colab": {
          "base_uri": "https://localhost:8080/"
        },
        "id": "CfSYJ_iPs2JP",
        "outputId": "5247d0fc-b5c0-4673-fee9-58e5d9c23629"
      },
      "outputs": [
        {
          "name": "stdout",
          "output_type": "stream",
          "text": [
            "pormi\n"
          ]
        }
      ],
      "source": [
        "# step\n",
        "print(my_string[0:10:2])"
      ]
    },
    {
      "cell_type": "markdown",
      "metadata": {
        "id": "amQA3d-UuRlR"
      },
      "source": [
        "String Concatenation"
      ]
    },
    {
      "cell_type": "code",
      "execution_count": null,
      "metadata": {
        "colab": {
          "base_uri": "https://localhost:8080/"
        },
        "id": "TwTm7DdFuZ2b",
        "outputId": "104e1d44-470e-4e0c-e1b1-66d7edcf9aa0"
      },
      "outputs": [
        {
          "name": "stdout",
          "output_type": "stream",
          "text": [
            "MachineLearning\n"
          ]
        }
      ],
      "source": [
        "word_1 = \"Machine\"\n",
        "word_2 = \"Learning\"\n",
        "\n",
        "print(word_1 + word_2)"
      ]
    },
    {
      "cell_type": "markdown",
      "metadata": {
        "id": "EpBNMqDgt45C"
      },
      "source": [
        "**Operators** **in** **Python**\n",
        "\n",
        "1. Arthmetic Operators\n",
        "2. Assignment Operators\n",
        "3. Comparison Operators\n",
        "4. Logical Operators\n",
        "5. Identity Operators\n",
        "6. Membership Operators"
      ]
    },
    {
      "cell_type": "markdown",
      "metadata": {
        "id": "wcmJr5rNUFA1"
      },
      "source": [
        "1. Arthmetic Operators"
      ]
    },
    {
      "cell_type": "code",
      "execution_count": null,
      "metadata": {
        "colab": {
          "base_uri": "https://localhost:8080/"
        },
        "id": "pwd2M5LnUPnM",
        "outputId": "48b27e2a-9a5d-4081-ad95-4af7164dd5c7"
      },
      "outputs": [
        {
          "name": "stdout",
          "output_type": "stream",
          "text": [
            "sum =  30\n",
            "difference =  10\n",
            "product =  200\n",
            "division =  2.0\n",
            "floor division =  2\n",
            "exponent =  10240000000000\n",
            "modulus =  0\n"
          ]
        }
      ],
      "source": [
        "num_1 = 20\n",
        "num_2 = 10\n",
        "\n",
        "# addition\n",
        "sum = num_1 + num_2\n",
        "print(\"sum = \", sum)\n",
        "\n",
        "# Subtraction\n",
        "diff = num_1 - num_2\n",
        "print(\"difference = \",diff)\n",
        "\n",
        "# multiplication\n",
        "pro = num_1 * num_2\n",
        "print(\"product = \",pro)\n",
        "\n",
        "# division\n",
        "div = num_1 / num_2\n",
        "print(\"division = \",div)\n",
        "\n",
        "# floor division\n",
        "floor_div = num_1 // num_2\n",
        "print(\"floor division = \",floor_div)\n",
        "\n",
        "# exponent\n",
        "exp = num_1 ** num_2\n",
        "print(\"exponent = \",exp)\n",
        "\n",
        "# modulus\n",
        "mod = num_1 % num_2\n",
        "print(\"modulus = \",mod)\n"
      ]
    },
    {
      "cell_type": "markdown",
      "metadata": {
        "id": "-StYVaxZklfS"
      },
      "source": [
        "2. Assignment Operators"
      ]
    },
    {
      "cell_type": "code",
      "execution_count": null,
      "metadata": {
        "colab": {
          "base_uri": "https://localhost:8080/"
        },
        "id": "KfUFWBfTkp18",
        "outputId": "aed728b5-b8fa-4aa2-a0e3-527c3c9e1cbc"
      },
      "outputs": [
        {
          "name": "stdout",
          "output_type": "stream",
          "text": [
            "5\n"
          ]
        }
      ],
      "source": [
        "a = 5\n",
        "print(a)"
      ]
    },
    {
      "cell_type": "code",
      "execution_count": null,
      "metadata": {
        "colab": {
          "base_uri": "https://localhost:8080/"
        },
        "id": "7cXSHWftk1vO",
        "outputId": "1992219f-0e0c-420a-8f11-451aacdcca58"
      },
      "outputs": [
        {
          "name": "stdout",
          "output_type": "stream",
          "text": [
            "10\n"
          ]
        }
      ],
      "source": [
        "a = 5\n",
        "a += 5\n",
        "print(a)"
      ]
    },
    {
      "cell_type": "code",
      "execution_count": null,
      "metadata": {
        "colab": {
          "base_uri": "https://localhost:8080/"
        },
        "id": "X5Y_sJlFlGOn",
        "outputId": "d3efd090-175a-4865-b87b-9b1fc4e7f967"
      },
      "outputs": [
        {
          "name": "stdout",
          "output_type": "stream",
          "text": [
            "3\n"
          ]
        }
      ],
      "source": [
        "b = 5\n",
        "b -= 2 # b = b - 2\n",
        "print(b)"
      ]
    },
    {
      "cell_type": "markdown",
      "metadata": {
        "id": "RnyK8i6vl0KL"
      },
      "source": [
        "3. Comparison Operators"
      ]
    },
    {
      "cell_type": "code",
      "execution_count": null,
      "metadata": {
        "colab": {
          "base_uri": "https://localhost:8080/"
        },
        "id": "OhkUInTxl918",
        "outputId": "e76517ff-783c-4382-e1fe-3b28ecb39121"
      },
      "outputs": [
        {
          "name": "stdout",
          "output_type": "stream",
          "text": [
            "False\n",
            "True\n",
            "False\n",
            "True\n",
            "False\n",
            "True\n"
          ]
        }
      ],
      "source": [
        "a = 5\n",
        "b = 10\n",
        "\n",
        "print(a == b) # equal to\n",
        "print(a != b) # not equal to\n",
        "print(a > b) # greater than\n",
        "print(a < b) # less than\n",
        "print(a >= b) # greater than or equal to\n",
        "print(a <= b) # less than or equal to\n"
      ]
    },
    {
      "cell_type": "code",
      "execution_count": null,
      "metadata": {
        "colab": {
          "base_uri": "https://localhost:8080/"
        },
        "id": "Ies2S7HtldJz",
        "outputId": "fc74b8f0-7fa5-4596-c994-8459f33c92c7"
      },
      "outputs": [
        {
          "name": "stdout",
          "output_type": "stream",
          "text": [
            "False\n",
            "True\n",
            "False\n"
          ]
        }
      ],
      "source": [
        "a = 10\n",
        "\n",
        "print(a > 10 and a > 5)\n",
        "print(a > 10 or a > 5)\n",
        "print(not(a > 8 and a > 5))"
      ]
    },
    {
      "cell_type": "markdown",
      "metadata": {
        "id": "Mjfvbysiq1Rm"
      },
      "source": [
        "5. Identity Operator"
      ]
    },
    {
      "cell_type": "code",
      "execution_count": null,
      "metadata": {
        "colab": {
          "base_uri": "https://localhost:8080/"
        },
        "id": "QkAjRNesq5oZ",
        "outputId": "4b540eb4-a91f-4c0a-dafc-0c92ceaa59fd"
      },
      "outputs": [
        {
          "name": "stdout",
          "output_type": "stream",
          "text": [
            "True\n"
          ]
        }
      ],
      "source": [
        "x = 5\n",
        "y = 5\n",
        "\n",
        "print(x is y)"
      ]
    },
    {
      "cell_type": "code",
      "execution_count": null,
      "metadata": {
        "colab": {
          "base_uri": "https://localhost:8080/"
        },
        "id": "BjuUiKX3rABF",
        "outputId": "6e1c3277-2383-4e64-8bc9-6be3a83f44fb"
      },
      "outputs": [
        {
          "name": "stdout",
          "output_type": "stream",
          "text": [
            "False\n"
          ]
        }
      ],
      "source": [
        "x = 5\n",
        "y = 10\n",
        "\n",
        "print(x is y)"
      ]
    },
    {
      "cell_type": "code",
      "execution_count": null,
      "metadata": {
        "colab": {
          "base_uri": "https://localhost:8080/"
        },
        "id": "yAQlPy4QrL0_",
        "outputId": "b6574454-5d0a-4198-a56f-3cf6cd8e6b54"
      },
      "outputs": [
        {
          "name": "stdout",
          "output_type": "stream",
          "text": [
            "False\n"
          ]
        }
      ],
      "source": [
        "x = 5\n",
        "y = 5\n",
        "\n",
        "print(x is not y)"
      ]
    },
    {
      "cell_type": "code",
      "execution_count": null,
      "metadata": {
        "colab": {
          "base_uri": "https://localhost:8080/"
        },
        "id": "BaBPdbIbrUcI",
        "outputId": "8abcaddc-44d5-4e55-dfb1-a261f8db0ba3"
      },
      "outputs": [
        {
          "name": "stdout",
          "output_type": "stream",
          "text": [
            "True\n"
          ]
        }
      ],
      "source": [
        "x = 5\n",
        "y = 10\n",
        "\n",
        "print(x is not y)"
      ]
    },
    {
      "cell_type": "code",
      "execution_count": null,
      "metadata": {
        "colab": {
          "base_uri": "https://localhost:8080/"
        },
        "id": "6RAsvTQurevE",
        "outputId": "86bc87e6-1e4c-4ac7-c0bd-acc6f01f59fd"
      },
      "outputs": [
        {
          "name": "stdout",
          "output_type": "stream",
          "text": [
            "True\n",
            "False\n"
          ]
        }
      ],
      "source": [
        "a = 5\n",
        "b = 10\n",
        "c = [1,2,3,4,5]\n",
        "\n",
        "print(a in c)\n",
        "print(b in c)\n",
        "\n"
      ]
    },
    {
      "cell_type": "code",
      "execution_count": null,
      "metadata": {
        "colab": {
          "base_uri": "https://localhost:8080/"
        },
        "id": "DdG4k2x6tCoQ",
        "outputId": "e6ac901f-4b73-4805-f168-a2558ef782aa"
      },
      "outputs": [
        {
          "name": "stdout",
          "output_type": "stream",
          "text": [
            "False\n",
            "True\n"
          ]
        }
      ],
      "source": [
        "a = 5\n",
        "b = 10\n",
        "c = [1,2,3,4,5]\n",
        "\n",
        "print(a not in c)\n",
        "print(b not in c)"
      ]
    },
    {
      "cell_type": "markdown",
      "metadata": {
        "id": "hU6embOU_ssE"
      },
      "source": [
        "**if** **else** **statement** **in** **python**\n",
        "\n"
      ]
    },
    {
      "cell_type": "code",
      "execution_count": null,
      "metadata": {
        "colab": {
          "base_uri": "https://localhost:8080/"
        },
        "id": "hUtbfRR4AHd3",
        "outputId": "23bb296b-fbd2-4a9f-bacb-831892dccf9d"
      },
      "outputs": [
        {
          "name": "stdout",
          "output_type": "stream",
          "text": [
            "b is greatest than number\n"
          ]
        }
      ],
      "source": [
        "a = 30\n",
        "b = 50\n",
        "\n",
        "if(a > b):\n",
        "  print(\"a is greatest than number\")\n",
        "else:\n",
        "  print(\"b is greatest than number\")"
      ]
    },
    {
      "cell_type": "code",
      "execution_count": null,
      "metadata": {
        "colab": {
          "base_uri": "https://localhost:8080/"
        },
        "id": "0_kLu7lotKg1",
        "outputId": "473ab230-ab70-4139-f07d-f64a592f0ae6"
      },
      "outputs": [
        {
          "name": "stdout",
          "output_type": "stream",
          "text": [
            "Enter the first number: 16\n",
            "Enter the second number: 20\n",
            "Second number is the greatest \n"
          ]
        }
      ],
      "source": [
        "a = input(\"Enter the first number: \")\n",
        "b = input(\"Enter the second number: \")\n",
        "\n",
        "if(a > b):\n",
        "  print(\"First number is the greatest \")\n",
        "else:\n",
        "  print(\"Second number is the greatest \")"
      ]
    },
    {
      "cell_type": "markdown",
      "metadata": {
        "id": "2DyDzM0IXFzM"
      },
      "source": [
        "if elif else statement"
      ]
    },
    {
      "cell_type": "code",
      "execution_count": null,
      "metadata": {
        "colab": {
          "base_uri": "https://localhost:8080/"
        },
        "id": "o0mfoPjyXOTE",
        "outputId": "c15955be-77ba-4fda-a2ff-de195d7190cd"
      },
      "outputs": [
        {
          "name": "stdout",
          "output_type": "stream",
          "text": [
            "c is the greatest number\n"
          ]
        }
      ],
      "source": [
        "a = 15\n",
        "b = 25\n",
        "c = 30\n",
        "\n",
        "if(b<a>c):\n",
        "  print(\"a is the greatest number\")\n",
        "elif(a<b>c):\n",
        "  print(\"b is the greatest number\")\n",
        "else:\n",
        "  print(\"c is the greatest number\")"
      ]
    },
    {
      "cell_type": "markdown",
      "metadata": {
        "id": "9h0gbMrrYUsr"
      },
      "source": [
        "Nested if Statement"
      ]
    },
    {
      "cell_type": "code",
      "execution_count": 2,
      "metadata": {
        "colab": {
          "base_uri": "https://localhost:8080/"
        },
        "id": "92ST2ovTYZp3",
        "outputId": "5a0aac6f-e84d-43e8-9b59-bc4979339eec"
      },
      "outputs": [
        {
          "output_type": "stream",
          "name": "stdout",
          "text": [
            "c is the greatest number\n"
          ]
        }
      ],
      "source": [
        "a = 20\n",
        "b = 40\n",
        "c = 60\n",
        "\n",
        "if(a>b):\n",
        "  if(a>c):\n",
        "    print(\"a is the greatest number\")\n",
        "  else:\n",
        "    print(\"c is the greatest number\")\n",
        "else:\n",
        "\n",
        "  if(b>c):\n",
        "    print(\"b is the greatest number\")\n",
        "  else:\n",
        "    print(\"c is the greatest number\")\n"
      ]
    },
    {
      "cell_type": "markdown",
      "source": [
        "**2.7** **Loops**  **In** **Python**\n",
        "\n",
        "Using for loop when we know the number of repetitions but using while when we don't know repetitions  \n",
        "\n",
        "for loop & while loop"
      ],
      "metadata": {
        "id": "fZ7vjQHBVTb5"
      }
    },
    {
      "cell_type": "code",
      "source": [
        "laptop1 = int(input(\"Enter the price of the laptop: \"))\n",
        "laptop2 = int(input(\"Enter the price of the laptop: \"))\n",
        "laptop3 = int(input(\"Enter the price of the laptop: \"))\n",
        "laptop4 = int(input(\"Enter the price of the laptop: \"))\n",
        "laptop5 = int(input(\"Enter the price of the laptop: \"))"
      ],
      "metadata": {
        "colab": {
          "base_uri": "https://localhost:8080/"
        },
        "id": "zRabe07UWPPz",
        "outputId": "72e738b3-e647-4278-8f26-57881b14abc4"
      },
      "execution_count": 3,
      "outputs": [
        {
          "name": "stdout",
          "output_type": "stream",
          "text": [
            "Enter the price of the laptop: 100\n",
            "Enter the price of the laptop: 200\n",
            "Enter the price of the laptop: 300\n",
            "Enter the price of the laptop: 400\n",
            "Enter the price of the laptop: 500\n"
          ]
        }
      ]
    },
    {
      "cell_type": "code",
      "source": [
        "for i in range(5): # 0,1,2,3,4\n",
        "  laptop_price = int(input(\"Enter the price of the laptop\"))"
      ],
      "metadata": {
        "colab": {
          "base_uri": "https://localhost:8080/"
        },
        "id": "VkTvw1BoV4qd",
        "outputId": "95c1a102-230d-4316-ffad-cfd4bcbb8192"
      },
      "execution_count": 4,
      "outputs": [
        {
          "name": "stdout",
          "output_type": "stream",
          "text": [
            "Enter the price of the laptop20000\n",
            "Enter the price of the laptop30000\n",
            "Enter the price of the laptop40000\n",
            "Enter the price of the laptop50000\n",
            "Enter the price of the laptop60000\n"
          ]
        }
      ]
    },
    {
      "cell_type": "code",
      "source": [
        "for i in range(7): # 0,1,2,3,4,5,6\n",
        "  laptop_price = int(input(\"Enter the price of the laptop : \"))"
      ],
      "metadata": {
        "colab": {
          "base_uri": "https://localhost:8080/"
        },
        "id": "SDFzQj76VsJV",
        "outputId": "67700c90-c0e1-409d-bcc3-2838ba4d92a6"
      },
      "execution_count": 7,
      "outputs": [
        {
          "name": "stdout",
          "output_type": "stream",
          "text": [
            "Enter the price of the laptop : 6\n",
            "Enter the price of the laptop : 7\n",
            "Enter the price of the laptop : 8\n",
            "Enter the price of the laptop : 9\n",
            "Enter the price of the laptop : 2\n",
            "Enter the price of the laptop : 3\n",
            "Enter the price of the laptop : 4\n"
          ]
        }
      ]
    },
    {
      "cell_type": "code",
      "source": [
        "numbers = [50,100,150,200]\n",
        "\n",
        "print(numbers[0])\n",
        "print(numbers[1])\n",
        "print(numbers[2])\n",
        "print(numbers[3])"
      ],
      "metadata": {
        "colab": {
          "base_uri": "https://localhost:8080/"
        },
        "id": "zj0d8zdpfynd",
        "outputId": "e419b7b5-0ba4-410a-8132-1902573f99fc"
      },
      "execution_count": 8,
      "outputs": [
        {
          "output_type": "stream",
          "name": "stdout",
          "text": [
            "50\n",
            "100\n",
            "150\n",
            "200\n"
          ]
        }
      ]
    },
    {
      "cell_type": "code",
      "source": [
        "numbers = [50,100,150,200]\n",
        "\n",
        "for i in numbers:\n",
        "  print(i)"
      ],
      "metadata": {
        "colab": {
          "base_uri": "https://localhost:8080/"
        },
        "id": "fYvRt94Zfg66",
        "outputId": "63e3ea17-a9fd-4c2e-d515-9c44f0347417"
      },
      "execution_count": 9,
      "outputs": [
        {
          "output_type": "stream",
          "name": "stdout",
          "text": [
            "50\n",
            "100\n",
            "150\n",
            "200\n"
          ]
        }
      ]
    },
    {
      "cell_type": "markdown",
      "source": [
        "While Condition\n",
        "\n",
        "Statement"
      ],
      "metadata": {
        "id": "CyNFlCpslGoK"
      }
    },
    {
      "cell_type": "code",
      "source": [
        "i = 0\n",
        "\n",
        "while i<10:\n",
        "  print(i)\n",
        "  i +=1 # i = i + 1"
      ],
      "metadata": {
        "colab": {
          "base_uri": "https://localhost:8080/"
        },
        "id": "p5VJJgMulMwE",
        "outputId": "c85025eb-38fc-4891-9fe1-b2eb3c7f1656"
      },
      "execution_count": 10,
      "outputs": [
        {
          "output_type": "stream",
          "name": "stdout",
          "text": [
            "0\n",
            "1\n",
            "2\n",
            "3\n",
            "4\n",
            "5\n",
            "6\n",
            "7\n",
            "8\n",
            "9\n"
          ]
        }
      ]
    }
  ],
  "metadata": {
    "colab": {
      "collapsed_sections": [
        "OrnlJ08OM07F",
        "hxqxGJS7Tc2J"
      ],
      "provenance": [],
      "mount_file_id": "1KLqViBkke_DBA-nZ44OEduTKrevQAvmv",
      "authorship_tag": "ABX9TyN9kBsqApevOJ4WDdxlK9Ek",
      "include_colab_link": true
    },
    "kernelspec": {
      "display_name": "Python 3",
      "name": "python3"
    },
    "language_info": {
      "name": "python"
    }
  },
  "nbformat": 4,
  "nbformat_minor": 0
}